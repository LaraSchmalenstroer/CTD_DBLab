{
 "cells": [
  {
   "cell_type": "code",
   "execution_count": 1,
   "id": "5f9aba20",
   "metadata": {},
   "outputs": [],
   "source": [
    "import pandas as pd "
   ]
  },
  {
   "cell_type": "markdown",
   "id": "e7e1230f",
   "metadata": {},
   "source": [
    "# Idea\n",
    "\n",
    "Topic: Parkinson's disease\n",
    "\n",
    "- find GEO dataset with differential gene expression data \n",
    "- find chemicals that interact with the genes involved\n",
    "- connect chemical data to ChEMBL"
   ]
  },
  {
   "cell_type": "markdown",
   "id": "26056c54",
   "metadata": {},
   "source": [
    "# Databases \n",
    "\n",
    "- [Gene Expression Omnibus (GEO)](https://www.ncbi.nlm.nih.gov/geo/)\n",
    "- [Comparative Toxicogenomics Database (CTD)](http://ctdbase.org/) \n",
    "- [ChEMBL](https://www.ebi.ac.uk/chembl/)"
   ]
  },
  {
   "cell_type": "markdown",
   "id": "b416960b",
   "metadata": {},
   "source": [
    "## GEO "
   ]
  },
  {
   "cell_type": "code",
   "execution_count": 4,
   "id": "b566e8bd",
   "metadata": {},
   "outputs": [
    {
     "data": {
      "text/html": [
       "<div>\n",
       "<style scoped>\n",
       "    .dataframe tbody tr th:only-of-type {\n",
       "        vertical-align: middle;\n",
       "    }\n",
       "\n",
       "    .dataframe tbody tr th {\n",
       "        vertical-align: top;\n",
       "    }\n",
       "\n",
       "    .dataframe thead th {\n",
       "        text-align: right;\n",
       "    }\n",
       "</style>\n",
       "<table border=\"1\" class=\"dataframe\">\n",
       "  <thead>\n",
       "    <tr style=\"text-align: right;\">\n",
       "      <th></th>\n",
       "      <th>adj.P.Val</th>\n",
       "      <th>P.Value</th>\n",
       "      <th>t</th>\n",
       "      <th>B</th>\n",
       "      <th>logFC</th>\n",
       "      <th>GB_ACC</th>\n",
       "      <th>SEQUENCE</th>\n",
       "    </tr>\n",
       "    <tr>\n",
       "      <th>ID</th>\n",
       "      <th></th>\n",
       "      <th></th>\n",
       "      <th></th>\n",
       "      <th></th>\n",
       "      <th></th>\n",
       "      <th></th>\n",
       "      <th></th>\n",
       "    </tr>\n",
       "  </thead>\n",
       "  <tbody>\n",
       "    <tr>\n",
       "      <th>A_23_P97700</th>\n",
       "      <td>0.000026</td>\n",
       "      <td>4.450000e-10</td>\n",
       "      <td>-33.622910</td>\n",
       "      <td>10.92450</td>\n",
       "      <td>-4.150392</td>\n",
       "      <td>NM_006472</td>\n",
       "      <td>TCCACCCTTTTCTGAGAGTTATTACAGCCAGAAAGTGTGGGCTGAA...</td>\n",
       "    </tr>\n",
       "    <tr>\n",
       "      <th>A_33_P3242623</th>\n",
       "      <td>0.000056</td>\n",
       "      <td>2.640000e-09</td>\n",
       "      <td>27.018203</td>\n",
       "      <td>10.17078</td>\n",
       "      <td>3.456385</td>\n",
       "      <td>NM_014331</td>\n",
       "      <td>GAAGTAAGTGTGTTTGTTTTCATCTTATGGAAACTCTTGATGCATG...</td>\n",
       "    </tr>\n",
       "    <tr>\n",
       "      <th>A_33_P3345309</th>\n",
       "      <td>0.000056</td>\n",
       "      <td>3.110000e-09</td>\n",
       "      <td>26.472367</td>\n",
       "      <td>10.09009</td>\n",
       "      <td>4.256690</td>\n",
       "      <td>NM_001195129</td>\n",
       "      <td>CCGTGTCTTCCCAGGTTTACAATCAGAGAATCACAGCTGCTTTAAT...</td>\n",
       "    </tr>\n",
       "    <tr>\n",
       "      <th>A_32_P155666</th>\n",
       "      <td>0.000056</td>\n",
       "      <td>3.800000e-09</td>\n",
       "      <td>25.827232</td>\n",
       "      <td>9.99014</td>\n",
       "      <td>3.331020</td>\n",
       "      <td>NM_004826</td>\n",
       "      <td>CCGTCTCTATGACAACTTCACTGTCTACAACCAGCGGGTGAACGGG...</td>\n",
       "    </tr>\n",
       "    <tr>\n",
       "      <th>A_22_P00018594</th>\n",
       "      <td>0.000138</td>\n",
       "      <td>1.190000e-08</td>\n",
       "      <td>-22.441332</td>\n",
       "      <td>9.37042</td>\n",
       "      <td>-2.423203</td>\n",
       "      <td>NaN</td>\n",
       "      <td>TAGAGGTCTTCTCCAAACATTTGCATTGTTTCTTTTTCTTAGGATC...</td>\n",
       "    </tr>\n",
       "  </tbody>\n",
       "</table>\n",
       "</div>"
      ],
      "text/plain": [
       "                adj.P.Val       P.Value          t         B     logFC  \\\n",
       "ID                                                                       \n",
       "A_23_P97700      0.000026  4.450000e-10 -33.622910  10.92450 -4.150392   \n",
       "A_33_P3242623    0.000056  2.640000e-09  27.018203  10.17078  3.456385   \n",
       "A_33_P3345309    0.000056  3.110000e-09  26.472367  10.09009  4.256690   \n",
       "A_32_P155666     0.000056  3.800000e-09  25.827232   9.99014  3.331020   \n",
       "A_22_P00018594   0.000138  1.190000e-08 -22.441332   9.37042 -2.423203   \n",
       "\n",
       "                      GB_ACC  \\\n",
       "ID                             \n",
       "A_23_P97700        NM_006472   \n",
       "A_33_P3242623      NM_014331   \n",
       "A_33_P3345309   NM_001195129   \n",
       "A_32_P155666       NM_004826   \n",
       "A_22_P00018594           NaN   \n",
       "\n",
       "                                                         SEQUENCE  \n",
       "ID                                                                 \n",
       "A_23_P97700     TCCACCCTTTTCTGAGAGTTATTACAGCCAGAAAGTGTGGGCTGAA...  \n",
       "A_33_P3242623   GAAGTAAGTGTGTTTGTTTTCATCTTATGGAAACTCTTGATGCATG...  \n",
       "A_33_P3345309   CCGTGTCTTCCCAGGTTTACAATCAGAGAATCACAGCTGCTTTAAT...  \n",
       "A_32_P155666    CCGTCTCTATGACAACTTCACTGTCTACAACCAGCGGGTGAACGGG...  \n",
       "A_22_P00018594  TAGAGGTCTTCTCCAAACATTTGCATTGTTTCTTTTTCTTAGGATC...  "
      ]
     },
     "execution_count": 4,
     "metadata": {},
     "output_type": "execute_result"
    }
   ],
   "source": [
    "df_geo = pd.read_csv('GSE135150.top.table.tsv', sep='\\t', index_col='ID')\n",
    "df_geo.head()"
   ]
  },
  {
   "cell_type": "markdown",
   "id": "00246de3",
   "metadata": {},
   "source": [
    "## CTD  \n",
    "CTD overview | Chosen table from CTD | interactions\n",
    "------------- | -------------------- | -------------\n",
    "<img src=\"ctd_overview.png\" width=\"150\"> | <img src=\"ctd_table.png\" width=\"150\"> | <img src=\"ctd_interactions.png\" width=\"150\">"
   ]
  },
  {
   "cell_type": "markdown",
   "id": "60ad3afe",
   "metadata": {},
   "source": [
    "## ChEMBL \n",
    "\n",
    "- connect the chemicals from CTD to compounds in ChEMBL "
   ]
  },
  {
   "cell_type": "code",
   "execution_count": null,
   "id": "9f07e537",
   "metadata": {},
   "outputs": [],
   "source": []
  },
  {
   "cell_type": "code",
   "execution_count": null,
   "id": "cbfdb8f2",
   "metadata": {},
   "outputs": [],
   "source": []
  }
 ],
 "metadata": {
  "celltoolbar": "Slideshow",
  "kernelspec": {
   "display_name": "biodb2022",
   "language": "python",
   "name": "biodb2022"
  },
  "language_info": {
   "codemirror_mode": {
    "name": "ipython",
    "version": 3
   },
   "file_extension": ".py",
   "mimetype": "text/x-python",
   "name": "python",
   "nbconvert_exporter": "python",
   "pygments_lexer": "ipython3",
   "version": "3.9.7"
  },
  "toc": {
   "base_numbering": 1,
   "nav_menu": {},
   "number_sections": true,
   "sideBar": true,
   "skip_h1_title": false,
   "title_cell": "Table of Contents",
   "title_sidebar": "Contents",
   "toc_cell": false,
   "toc_position": {},
   "toc_section_display": true,
   "toc_window_display": false
  }
 },
 "nbformat": 4,
 "nbformat_minor": 5
}
