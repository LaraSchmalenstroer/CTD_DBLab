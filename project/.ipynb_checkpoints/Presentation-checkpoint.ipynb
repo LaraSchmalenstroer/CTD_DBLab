{
 "cells": [
  {
   "cell_type": "markdown",
   "id": "1b732bf0",
   "metadata": {
    "slideshow": {
     "slide_type": "slide"
    }
   },
   "source": [
    "# Biological Databases Lab Course\n",
    "\n",
    "## Group 2 - CTD\n",
    "\n",
    "### Members: Rohitha, Lara\n",
    "\n",
    "### 25.03.2022"
   ]
  },
  {
   "cell_type": "markdown",
   "id": "ea3eccc1",
   "metadata": {
    "slideshow": {
     "slide_type": "slide"
    }
   },
   "source": [
    "# Hypothesis of the project\n",
    "\n",
    "### _To predict potential drugs for Parkinson's disease from gene expression experiment data_ \n",
    "\n",
    "Gene expression data --> **chemical ids** --> drugs "
   ]
  },
  {
   "cell_type": "markdown",
   "id": "167cdb61",
   "metadata": {
    "slideshow": {
     "slide_type": "slide"
    }
   },
   "source": [
    "# CTD\n",
    "\n",
    "- Comparative Toxicogenomics Database \n",
    "- manually curated database of chemical-gene/protein interactions, \n",
    "    chemical-disease and gene-disease relationships \n",
    "    - integrated with pathway and functional data\n",
    "    - aids in hypothesis development \n",
    "- environmentally influenced diseases \n"
   ]
  },
  {
   "cell_type": "markdown",
   "id": "fbb4391e",
   "metadata": {
    "slideshow": {
     "slide_type": "slide"
    }
   },
   "source": [
    "## Tables of CTD Database\n",
    "\n",
    "<img src='CTD_tables.png' width=500>"
   ]
  },
  {
   "cell_type": "markdown",
   "id": "00475199",
   "metadata": {
    "slideshow": {
     "slide_type": "slide"
    }
   },
   "source": [
    "# CTD Search engine\n",
    "\n",
    "<img src='Search.png' width=900> "
   ]
  },
  {
   "cell_type": "markdown",
   "id": "3c5b3e1b",
   "metadata": {
    "slideshow": {
     "slide_type": "slide"
    }
   },
   "source": [
    "# Our formulation\n",
    "\n",
    "- focuses on extracting available information on chemical-gene relationships\n",
    "- associate it with potential drugs targeting up/down regulated genes\n"
   ]
  },
  {
   "cell_type": "markdown",
   "id": "042e8d6d",
   "metadata": {
    "slideshow": {
     "slide_type": "slide"
    }
   },
   "source": [
    "# Sequence diagram\n",
    "\n",
    "<img src='sequence_diagram.png' width=800 align='center'>"
   ]
  },
  {
   "cell_type": "markdown",
   "id": "92a935fa",
   "metadata": {
    "slideshow": {
     "slide_type": "slide"
    }
   },
   "source": [
    "# Schema"
   ]
  },
  {
   "cell_type": "markdown",
   "id": "69b94082",
   "metadata": {
    "slideshow": {
     "slide_type": "fragment"
    }
   },
   "source": [
    "<img src='CTD_Schema.png' width=600>"
   ]
  },
  {
   "cell_type": "markdown",
   "id": "c5b8b017",
   "metadata": {
    "slideshow": {
     "slide_type": "slide"
    }
   },
   "source": [
    "# Workflow\n",
    "- identify unique interaction types \n",
    "- extract cas ids for the given gene symbols\n",
    "- filter the chemical ids for correlation with Parkinson's disease"
   ]
  },
  {
   "cell_type": "markdown",
   "id": "8e2c8619",
   "metadata": {
    "slideshow": {
     "slide_type": "fragment"
    }
   },
   "source": [
    "<img src='task2_schema.png' width=1000>"
   ]
  },
  {
   "cell_type": "markdown",
   "id": "e5ad2509",
   "metadata": {
    "slideshow": {
     "slide_type": "slide"
    }
   },
   "source": [
    "## Implementation\n",
    "\n",
    "### Query\n",
    "\n",
    "<img src='query.png' width=1000>"
   ]
  },
  {
   "cell_type": "markdown",
   "id": "68c71d8a",
   "metadata": {
    "slideshow": {
     "slide_type": "slide"
    }
   },
   "source": [
    "## Implementation\n",
    "\n",
    "### Response\n",
    "\n",
    "<img src='response.png' width=1000>"
   ]
  },
  {
   "cell_type": "markdown",
   "id": "4f073b3b",
   "metadata": {
    "slideshow": {
     "slide_type": "slide"
    }
   },
   "source": [
    "# Future improvements\n",
    "\n",
    "###  Make a Relational Database\n",
    "+ Optimization\n",
    "+ Outsource redundant data to additional tables\n",
    "    - e.g. disease name and disease id \n",
    "+ Develop relationships through foreign keys\n",
    "    \n",
    "### Improve accuracy of disease prediction\n",
    "+ Threshold values\n",
    "+ Inference score"
   ]
  },
  {
   "cell_type": "markdown",
   "id": "8f20d7a0",
   "metadata": {
    "slideshow": {
     "slide_type": "slide"
    }
   },
   "source": [
    "# Inference score\n",
    "\n",
    "- method to rank the results (infered relationships)\n",
    "- takes network topology into account\n",
    "\n",
    "<img src='network_topology.jpg'> "
   ]
  },
  {
   "cell_type": "markdown",
   "id": "1f078ab8",
   "metadata": {
    "slideshow": {
     "slide_type": "slide"
    }
   },
   "source": [
    "# Thank you"
   ]
  }
 ],
 "metadata": {
  "celltoolbar": "Slideshow",
  "kernelspec": {
   "display_name": "biodb2022",
   "language": "python",
   "name": "biodb2022"
  },
  "language_info": {
   "codemirror_mode": {
    "name": "ipython",
    "version": 3
   },
   "file_extension": ".py",
   "mimetype": "text/x-python",
   "name": "python",
   "nbconvert_exporter": "python",
   "pygments_lexer": "ipython3",
   "version": "3.9.7"
  },
  "toc": {
   "base_numbering": 1,
   "nav_menu": {},
   "number_sections": true,
   "sideBar": true,
   "skip_h1_title": false,
   "title_cell": "Table of Contents",
   "title_sidebar": "Contents",
   "toc_cell": false,
   "toc_position": {},
   "toc_section_display": true,
   "toc_window_display": false
  }
 },
 "nbformat": 4,
 "nbformat_minor": 5
}
